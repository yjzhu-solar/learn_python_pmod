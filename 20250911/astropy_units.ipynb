{
 "cells": [
  {
   "cell_type": "markdown",
   "id": "4e6a7026",
   "metadata": {},
   "source": [
    "### Astropy Units\n",
    "---\n",
    "Astropy provides a powerful and flexible way to handle physical units and quantities in Python. It allows you to attach units to numerical values, perform unit conversions, and carry out calculations while keeping track of the units. To see more, please refer to the [Astropy Units documentation](https://docs.astropy.org/en/stable/units/)."
   ]
  },
  {
   "cell_type": "code",
   "execution_count": 1,
   "id": "8580fdee",
   "metadata": {},
   "outputs": [],
   "source": [
    "# import the units module from astropy\n",
    "\n",
    "from astropy import units as u\n",
    "import numpy as np"
   ]
  },
  {
   "cell_type": "code",
   "execution_count": 2,
   "id": "8d4b848b",
   "metadata": {},
   "outputs": [
    {
     "name": "stdout",
     "output_type": "stream",
     "text": [
      "10.0 m\n",
      "[1. 2. 3.] arcsec\n",
      "123.0 m / s\n"
     ]
    }
   ],
   "source": [
    "# create a quantity with units \n",
    "\n",
    "a = 10 * u.m\n",
    "b = (1, 2, 3) * u.arcsec\n",
    "c = 123* u.m/u.s\n",
    "\n",
    "print(a)\n",
    "print(b)\n",
    "print(c)"
   ]
  },
  {
   "cell_type": "code",
   "execution_count": 3,
   "id": "09a06d2e",
   "metadata": {},
   "outputs": [
    {
     "name": "stdout",
     "output_type": "stream",
     "text": [
      "0.01 km\n",
      "[0.00027778 0.00055556 0.00083333] deg\n",
      "12300.0 cm / s\n"
     ]
    }
   ],
   "source": [
    "# convert quantity to different units\n",
    "\n",
    "a_km = a.to(u.km)\n",
    "b_deg = b.to(u.deg)\n",
    "c_cgs = c.to(u.cm/u.s)\n",
    "\n",
    "print(a_km)\n",
    "print(b_deg)\n",
    "print(c_cgs)\n"
   ]
  },
  {
   "cell_type": "code",
   "execution_count": 4,
   "id": "2ff6438b",
   "metadata": {},
   "outputs": [
    {
     "name": "stdout",
     "output_type": "stream",
     "text": [
      "1000.0 cm\n"
     ]
    }
   ],
   "source": [
    "# convert quantity to different unit system\n",
    "\n",
    "a_cgs = a.cgs\n",
    "print(a_cgs)"
   ]
  },
  {
   "cell_type": "code",
   "execution_count": 5,
   "id": "6a7ca5c3",
   "metadata": {},
   "outputs": [
    {
     "name": "stdout",
     "output_type": "stream",
     "text": [
      "10.0\n",
      "1000.0\n"
     ]
    }
   ],
   "source": [
    "# get tue values of a quantity\n",
    "\n",
    "print(a.value)\n",
    "print(a.to_value(u.cm))"
   ]
  },
  {
   "cell_type": "code",
   "execution_count": 6,
   "id": "ea7dca56",
   "metadata": {},
   "outputs": [
    {
     "name": "stdout",
     "output_type": "stream",
     "text": [
      "m\n"
     ]
    }
   ],
   "source": [
    "# get the unit of a quantity\n",
    "print(a.unit)"
   ]
  },
  {
   "cell_type": "code",
   "execution_count": 7,
   "id": "3000186f",
   "metadata": {},
   "outputs": [
    {
     "name": "stdout",
     "output_type": "stream",
     "text": [
      "10.0 kg m / s2\n"
     ]
    }
   ],
   "source": [
    "# decompose a unit into base units\n",
    "\n",
    "d = 10* u.N\n",
    "print(d.decompose())"
   ]
  },
  {
   "cell_type": "code",
   "execution_count": 8,
   "id": "3808728b",
   "metadata": {},
   "outputs": [
    {
     "name": "stdout",
     "output_type": "stream",
     "text": [
      "599584915999999.9 Hz\n",
      "2.479683968664005 eV\n",
      "28775.537550078672 K\n"
     ]
    }
   ],
   "source": [
    "# convert under certain equivalences, e.g., wavelength to frequency or energy, energy to temperature, etc.\n",
    "wavelength = 500 * u.nm\n",
    "frequency = wavelength.to(u.Hz, equivalencies=u.spectral())\n",
    "energy = wavelength.to(u.eV, equivalencies=u.spectral())\n",
    "temperature = energy.to(u.K, equivalencies=u.temperature_energy())\n",
    "\n",
    "print(frequency)\n",
    "print(energy)\n",
    "print(temperature)"
   ]
  },
  {
   "cell_type": "code",
   "execution_count": 9,
   "id": "da8b5fa4",
   "metadata": {},
   "outputs": [
    {
     "name": "stdout",
     "output_type": "stream",
     "text": [
      "[10. 20.] pix\n"
     ]
    }
   ],
   "source": [
    "# create a pixel pair \n",
    "\n",
    "d = (10, 20) * u.pixel\n",
    "print(d)"
   ]
  }
 ],
 "metadata": {
  "kernelspec": {
   "display_name": "sunpy",
   "language": "python",
   "name": "python3"
  },
  "language_info": {
   "codemirror_mode": {
    "name": "ipython",
    "version": 3
   },
   "file_extension": ".py",
   "mimetype": "text/x-python",
   "name": "python",
   "nbconvert_exporter": "python",
   "pygments_lexer": "ipython3",
   "version": "3.12.9"
  }
 },
 "nbformat": 4,
 "nbformat_minor": 5
}
