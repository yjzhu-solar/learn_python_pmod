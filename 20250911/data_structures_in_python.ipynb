{
 "cells": [
  {
   "cell_type": "markdown",
   "id": "878d3294",
   "metadata": {},
   "source": [
    "### Python Data Structures\n",
    "There are three common data structures in Python: lists, tuples, and dictionaries. There are some analogous data structures (types) in IDL. Too see the full list of data structures in Python, see [here](https://docs.python.org/3/tutorial/datastructures.html)."
   ]
  },
  {
   "cell_type": "markdown",
   "id": "af786d92",
   "metadata": {},
   "source": [
    "#### List\n",
    "\n",
    "A list is a mutable, ordered collection of items. Lists can contain items of different types, including other lists.\n",
    "\n",
    "After IDL 8, IDL also introduces a list data structure, which is similar to Python lists."
   ]
  },
  {
   "cell_type": "code",
   "execution_count": 1,
   "id": "18396fa3",
   "metadata": {},
   "outputs": [],
   "source": [
    "# create a list \n",
    "\n",
    "a = [1, 2, 3, 'four', [5, 6]]\n",
    "\n",
    "# in IDL \n",
    "# a = [1, 2, 3, 'four', [5, 6]] will create an array with warnings\n",
    "# a = LIST(1, 2, 3, 'four', LIST(5, 6))"
   ]
  },
  {
   "cell_type": "code",
   "execution_count": 2,
   "id": "60963c8f",
   "metadata": {},
   "outputs": [
    {
     "name": "stdout",
     "output_type": "stream",
     "text": [
      "[1, 2, 3, 'four', [5, 6]]\n"
     ]
    }
   ],
   "source": [
    "print(a)"
   ]
  },
  {
   "cell_type": "code",
   "execution_count": 3,
   "id": "d2d0190e",
   "metadata": {},
   "outputs": [
    {
     "name": "stdout",
     "output_type": "stream",
     "text": [
      "[1, 2, 3, 'four', [5, 6], 7]\n"
     ]
    }
   ],
   "source": [
    "# append an item to the list\n",
    "a.append(7)\n",
    "\n",
    "# in IDL\n",
    "# a.ADD, 7\n",
    "\n",
    "print(a)"
   ]
  },
  {
   "cell_type": "code",
   "execution_count": 4,
   "id": "f08b2cbc",
   "metadata": {},
   "outputs": [
    {
     "name": "stdout",
     "output_type": "stream",
     "text": [
      "[1, 2, 'inserted', 3, 'four', [5, 6], 7]\n"
     ]
    }
   ],
   "source": [
    "# insert an item at a specific position\n",
    "\n",
    "a.insert(2, 'inserted')\n",
    "\n",
    "# in IDL\n",
    "# a.ADD, 'inserted', 2\n",
    "\n",
    "print(a)"
   ]
  },
  {
   "cell_type": "code",
   "execution_count": 5,
   "id": "7dc3a7bc",
   "metadata": {},
   "outputs": [
    {
     "name": "stdout",
     "output_type": "stream",
     "text": [
      "[2, 'inserted', 3]\n"
     ]
    }
   ],
   "source": [
    "# slice the list, note that the end index is exclusive (unlike IDL)\n",
    "print(a[1:4]) # prints items at index 1, 2, 3"
   ]
  },
  {
   "cell_type": "code",
   "execution_count": 6,
   "id": "caf97a75",
   "metadata": {},
   "outputs": [
    {
     "name": "stdout",
     "output_type": "stream",
     "text": [
      "Popped item: 7\n",
      "[1, 2, 'inserted', 3, 'four', [5, 6]]\n"
     ]
    }
   ],
   "source": [
    "# pop the last item from the list\n",
    "\n",
    "last_item = a.pop()\n",
    "print(\"Popped item:\", last_item)\n",
    "print(a)\n",
    "\n",
    "# in IDL\n",
    "# a.Remove()"
   ]
  },
  {
   "cell_type": "code",
   "execution_count": 7,
   "id": "9297fba4",
   "metadata": {},
   "outputs": [
    {
     "name": "stdout",
     "output_type": "stream",
     "text": [
      "[1, 2, 3, 4]\n",
      "['apple', 'banana', 'cherry']\n"
     ]
    }
   ],
   "source": [
    "# if a list is sortable, you can sort it\n",
    "\n",
    "b = [3, 1, 4, 2]\n",
    "b.sort()\n",
    "print(b)\n",
    "\n",
    "c = ['banana', 'apple', 'cherry']\n",
    "c.sort()\n",
    "print(c)\n",
    "\n",
    "# in IDL\n",
    "# b_sort = b.Sort()\n",
    "# c_sort = c.Sort()"
   ]
  },
  {
   "cell_type": "code",
   "execution_count": 8,
   "id": "37114cc3",
   "metadata": {},
   "outputs": [
    {
     "name": "stdout",
     "output_type": "stream",
     "text": [
      "[1, 2, 3, 1, 2, 3, 1, 2, 3]\n"
     ]
    }
   ],
   "source": [
    "# multiply a list will repeat the list\n",
    "\n",
    "d = [1, 2, 3] * 3\n",
    "print(d)"
   ]
  },
  {
   "cell_type": "code",
   "execution_count": 9,
   "id": "235ae150",
   "metadata": {},
   "outputs": [
    {
     "name": "stdout",
     "output_type": "stream",
     "text": [
      "[1, 2, 3, 'a', 'b', 'c']\n"
     ]
    }
   ],
   "source": [
    "# you can concatenate lists using the + operator\n",
    "\n",
    "e = [1, 2, 3] + ['a', 'b', 'c']\n",
    "print(e)"
   ]
  },
  {
   "cell_type": "code",
   "execution_count": 10,
   "id": "92ec8cde",
   "metadata": {},
   "outputs": [
    {
     "name": "stdout",
     "output_type": "stream",
     "text": [
      "6\n"
     ]
    }
   ],
   "source": [
    "# get the length of a list \n",
    "\n",
    "print(len(e))\n",
    "\n",
    "# in IDL\n",
    "# print, N_ELEMENTS(e)"
   ]
  },
  {
   "cell_type": "code",
   "execution_count": 11,
   "id": "e406db20",
   "metadata": {},
   "outputs": [
    {
     "name": "stdout",
     "output_type": "stream",
     "text": [
      "1\n",
      "2\n",
      "3\n",
      "a\n",
      "b\n",
      "c\n"
     ]
    }
   ],
   "source": [
    "# loop through a list\n",
    "\n",
    "for item in e:\n",
    "    print(item)\n",
    "\n",
    "# in IDL\n",
    "# FOR i=0, N_ELEMENTS(e)-1 DO PRINT, e[i]"
   ]
  },
  {
   "cell_type": "markdown",
   "id": "819c3fef",
   "metadata": {},
   "source": [
    "#### Tuple\n",
    "A tuple is an immutable, ordered collection of items. Tuples can also contain items of different types, including other tuples. In a lot of cases, tuples are used to represent fixed collections of items (a fixed list)."
   ]
  },
  {
   "cell_type": "code",
   "execution_count": 12,
   "id": "618928dd",
   "metadata": {},
   "outputs": [
    {
     "name": "stdout",
     "output_type": "stream",
     "text": [
      "(1, 2, 3, 'four', (5, 6))\n"
     ]
    }
   ],
   "source": [
    "# create a tuple\n",
    "\n",
    "a = (1, 2, 3, 'four', (5, 6))\n",
    "print(a)"
   ]
  },
  {
   "cell_type": "code",
   "execution_count": 13,
   "id": "bf1837f3",
   "metadata": {},
   "outputs": [
    {
     "name": "stdout",
     "output_type": "stream",
     "text": [
      "1 2 3 four (5, 6)\n"
     ]
    }
   ],
   "source": [
    "# unpack a tuple\n",
    "x, y, z, w, v = a\n",
    "print(x, y, z, w, v)"
   ]
  },
  {
   "cell_type": "code",
   "execution_count": 14,
   "id": "d1f5a29c",
   "metadata": {},
   "outputs": [
    {
     "name": "stdout",
     "output_type": "stream",
     "text": [
      "5\n"
     ]
    }
   ],
   "source": [
    "# length of a tuple\n",
    "print(len(a))"
   ]
  },
  {
   "cell_type": "code",
   "execution_count": 15,
   "id": "ce9f8ae0",
   "metadata": {},
   "outputs": [
    {
     "name": "stdout",
     "output_type": "stream",
     "text": [
      "1\n",
      "2\n",
      "3\n",
      "four\n",
      "(5, 6)\n"
     ]
    }
   ],
   "source": [
    "# loops through a tuple\n",
    "\n",
    "for item in a:\n",
    "    print(item)"
   ]
  },
  {
   "cell_type": "markdown",
   "id": "e43d6625",
   "metadata": {},
   "source": [
    "### Dictionary\n",
    "A dictionary is a mutable, unordered collection of key-value pairs. Keys must be unique and immutable types (like strings, numbers, or tuples), while values can be of any type and can be duplicated. In IDL, the analogous data structure is a hash table (although the definition appears to be similar to IDL structures, there are some differences in usage and functionality)."
   ]
  },
  {
   "cell_type": "code",
   "execution_count": 16,
   "id": "46908ccc",
   "metadata": {},
   "outputs": [
    {
     "name": "stdout",
     "output_type": "stream",
     "text": [
      "{'name': 'Alice', 'age': 30, 'city': 'New York'}\n",
      "{'name': 'Bob', 'age': 25, 'city': 'Los Angeles'}\n"
     ]
    }
   ],
   "source": [
    "# create a dictionary, both ways work\n",
    "\n",
    "a = {'name': 'Alice', 'age': 30, 'city': 'New York'}\n",
    "\n",
    "b = dict(name='Bob', age=25, city='Los Angeles')\n",
    "\n",
    "print(a)\n",
    "print(b)\n",
    "\n",
    "# in IDL\n",
    "# a = HASH('name', 'Alice', 'age', 30, 'city', 'New York')\n",
    "# b = HASH('name', 'Bob', 'age', 25, 'city', 'Los Angeles')"
   ]
  },
  {
   "cell_type": "code",
   "execution_count": 17,
   "id": "fed3152c",
   "metadata": {},
   "outputs": [
    {
     "name": "stdout",
     "output_type": "stream",
     "text": [
      "Alice\n",
      "25\n"
     ]
    }
   ],
   "source": [
    "# get a value by key\n",
    "print(a['name'])\n",
    "print(b.get('age'))\n",
    "\n",
    "# in IDL\n",
    "# PRINT, a['name']"
   ]
  },
  {
   "cell_type": "code",
   "execution_count": 18,
   "id": "8c916664",
   "metadata": {},
   "outputs": [
    {
     "name": "stdout",
     "output_type": "stream",
     "text": [
      "dict_keys(['name', 'age', 'city'])\n"
     ]
    }
   ],
   "source": [
    "# get all keys\n",
    "print(a.keys())\n",
    "\n",
    "# in IDL \n",
    "# PRINT, a.Keys()"
   ]
  },
  {
   "cell_type": "code",
   "execution_count": 19,
   "id": "a54aaf7f",
   "metadata": {},
   "outputs": [
    {
     "name": "stdout",
     "output_type": "stream",
     "text": [
      "dict_values(['Alice', 30, 'New York'])\n"
     ]
    }
   ],
   "source": [
    "# get all values\n",
    "print(a.values())\n",
    "\n",
    "# in IDL\n",
    "# PRINT, a.Values()"
   ]
  },
  {
   "cell_type": "code",
   "execution_count": 20,
   "id": "2f170fbb",
   "metadata": {},
   "outputs": [
    {
     "name": "stdout",
     "output_type": "stream",
     "text": [
      "name: Alice\n",
      "age: 30\n",
      "city: New York\n"
     ]
    }
   ],
   "source": [
    "# loop through a dictionary\n",
    "\n",
    "for key, value in a.items():\n",
    "    print(f\"{key}: {value}\")\n",
    "\n",
    "# in IDL\n",
    "# FOR i=0,N_ELEMENTS(a)-1 DO PRINT, a[keys[i]]"
   ]
  }
 ],
 "metadata": {
  "kernelspec": {
   "display_name": "sunpy",
   "language": "python",
   "name": "python3"
  },
  "language_info": {
   "codemirror_mode": {
    "name": "ipython",
    "version": 3
   },
   "file_extension": ".py",
   "mimetype": "text/x-python",
   "name": "python",
   "nbconvert_exporter": "python",
   "pygments_lexer": "ipython3",
   "version": "3.12.9"
  }
 },
 "nbformat": 4,
 "nbformat_minor": 5
}
